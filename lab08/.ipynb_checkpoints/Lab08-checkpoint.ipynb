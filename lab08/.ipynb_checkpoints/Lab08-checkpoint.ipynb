{
 "cells": [
  {
   "cell_type": "code",
   "execution_count": 2,
   "metadata": {},
   "outputs": [],
   "source": [
    "# inline plotting instead of popping out\n",
    "%matplotlib inline\n",
    "\n",
    "# python 3.7.3\n",
    "import os, itertools, csv\n",
    "\n",
    "from IPython.display import Image\n",
    "from IPython.display import display\n",
    "\n",
    "# numpy  1.17.1\n",
    "import numpy as np\n",
    "\n",
    "# pandas  0.25.1\n",
    "import pandas as pd\n",
    "\n",
    "# scikit-learn  0.21.3\n",
    "from sklearn import datasets\n",
    "load_iris = datasets.load_iris\n",
    "make_moons = datasets.make_moons\n",
    "from sklearn.ensemble import AdaBoostClassifier, BaggingClassifier, VotingClassifier\n",
    "from sklearn.linear_model import LinearRegression, LogisticRegression\n",
    "from sklearn.metrics import accuracy_score, mean_squared_error, roc_curve, auc\n",
    "from sklearn.model_selection import train_test_split, KFold, GridSearchCV, cross_val_score\n",
    "from sklearn.neighbors import KNeighborsClassifier\n",
    "from sklearn.pipeline import Pipeline\n",
    "from sklearn.preprocessing import StandardScaler, PolynomialFeatures\n",
    "from sklearn.tree import DecisionTreeClassifier\n",
    "\n",
    "# matplotlib  3.1.1\n",
    "import matplotlib.pyplot as plt\n",
    "\n",
    "# load utility classes/functions that has been taught in previous labs\n",
    "# e.g., plot_decision_regions()\n",
    "from lib import *\n",
    "\n",
    "# Make output directory\n",
    "if not os.path.exists(\"output/\") : os.mkdir(\"output/\")"
   ]
  },
  {
   "cell_type": "code",
   "execution_count": 3,
   "metadata": {},
   "outputs": [],
   "source": [
    "iris = load_iris()\n",
    "X, y = iris.data[:,[1,2]], iris.target\n",
    "\n",
    "# hold out testing set\n",
    "X_train, X_test, y_train, y_test = train_test_split(X, y, test_size=0.3, random_state=0)\n",
    "# hold out validation set\n",
    "X_train, X_val, y_train, y_val = train_test_split(X_train, y_train, test_size=0.3, random_state=0)"
   ]
  },
  {
   "cell_type": "code",
   "execution_count": 4,
   "metadata": {},
   "outputs": [
    {
     "name": "stdout",
     "output_type": "stream",
     "text": [
      "[1-NN]\n",
      "Validation accuracy: 0.9375\n",
      "[15-NN]\n",
      "Validation accuracy: 0.90625\n",
      "[50-NN]\n",
      "Validation accuracy: 0.4375\n",
      "\n",
      "Test accuracy: 0.89 (n_neighbors=1 selected by the holdout method)\n"
     ]
    }
   ],
   "source": [
    "best_k, best_score = -1, -1\n",
    "clfs = {}\n",
    "\n",
    "# hyperparameter tuning\n",
    "for k in [1, 15, 50]: \n",
    "    pipe = Pipeline([\n",
    "                    ['sc', StandardScaler()], \n",
    "                    ['clf', KNeighborsClassifier(n_neighbors=k)]\n",
    "                   ])\n",
    "    pipe.fit(X_train, y_train)\n",
    "    y_pred = pipe.predict(X_val)\n",
    "    score = accuracy_score(y_val, y_pred)\n",
    "    print('[{}-NN]\\nValidation accuracy: {}'.format(k, score))\n",
    "    if score > best_score:\n",
    "        best_k, best_score = k, score\n",
    "    clfs[k] = pipe\n",
    "    \n",
    "# performance reporting\n",
    "y_pred= clfs[best_k].predict(X_test)\n",
    "print('\\nTest accuracy: %.2f (n_neighbors=%d selected by the holdout method)' % \n",
    "      (accuracy_score(y_test, y_pred), best_k))"
   ]
  },
  {
   "cell_type": "code",
   "execution_count": 5,
   "metadata": {},
   "outputs": [
    {
     "name": "stdout",
     "output_type": "stream",
     "text": [
      "Test accuracy: 0.91 (n_neighbors=15 selected manually)\n"
     ]
    }
   ],
   "source": [
    "y_pred= clfs[15].predict(X_test)\n",
    "print('Test accuracy: %.2f (n_neighbors=15 selected manually)' % \n",
    "      accuracy_score(y_test, y_pred))\n"
   ]
  },
  {
   "cell_type": "code",
   "execution_count": 6,
   "metadata": {},
   "outputs": [],
   "source": [
    "iris = load_iris()\n",
    "X, y = iris.data[:,[1,2]], iris.target\n",
    "\n",
    "# hold out testing set\n",
    "X_train, X_test, y_train, y_test = train_test_split(X, y, test_size=0.3, random_state=1)"
   ]
  },
  {
   "cell_type": "code",
   "execution_count": 7,
   "metadata": {},
   "outputs": [
    {
     "name": "stdout",
     "output_type": "stream",
     "text": [
      "[1-NN]\n",
      "Validation accuracy: 0.894 [0.91304348 0.95454545 0.85       0.85       0.9       ]\n",
      "[15-NN]\n",
      "Validation accuracy: 0.914 [0.95652174 0.86363636 0.85       0.9        1.        ]\n",
      "[50-NN]\n",
      "Validation accuracy: 0.801 [0.73913043 0.86363636 0.75       0.75       0.9       ]\n"
     ]
    }
   ],
   "source": [
    "best_k, best_score = -1, -1\n",
    "clfs = {}\n",
    "\n",
    "for k in [1, 15, 50]: # experiment different hyperparameter\n",
    "    pipe = Pipeline([\n",
    "                    ['sc', StandardScaler()], \n",
    "                    ['clf', KNeighborsClassifier(n_neighbors=k)]\n",
    "                   ])\n",
    "    pipe.fit(X_train, y_train)\n",
    "    # K-Fold CV\n",
    "    scores = cross_val_score(pipe, X_train, y_train, cv=5)\n",
    "    print('[%d-NN]\\nValidation accuracy: %.3f %s' % (k, scores.mean(), scores))\n",
    "    if scores.mean() > best_score:\n",
    "        best_k, best_score = k, scores.mean()\n",
    "    clfs[k] = pipe\n"
   ]
  },
  {
   "cell_type": "code",
   "execution_count": null,
   "metadata": {},
   "outputs": [],
   "source": [
    "best_clf = clfs[best_k]\n",
    "best_clf.fit(X_train, y_train)\n",
    "\n",
    "# performance reporting\n",
    "y_pred = best_clf.predict(X_test)\n",
    "print('Test accuracy: %.2f (n_neighbors=%d selected by 5-fold CV)' % \n",
    "      (accuracy_score(y_test, y_pred), best_k))"
   ]
  }
 ],
 "metadata": {
  "kernelspec": {
   "display_name": "Python 3",
   "language": "python",
   "name": "python3"
  },
  "language_info": {
   "codemirror_mode": {
    "name": "ipython",
    "version": 3
   },
   "file_extension": ".py",
   "mimetype": "text/x-python",
   "name": "python",
   "nbconvert_exporter": "python",
   "pygments_lexer": "ipython3",
   "version": "3.7.3"
  }
 },
 "nbformat": 4,
 "nbformat_minor": 2
}
