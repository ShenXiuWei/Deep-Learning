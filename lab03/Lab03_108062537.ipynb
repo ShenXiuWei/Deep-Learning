{
 "cells": [
  {
   "cell_type": "code",
   "execution_count": 1,
   "metadata": {},
   "outputs": [],
   "source": [
    "# inline plotting instead of popping out\n",
    "%matplotlib inline\n",
    "\n",
    "# python 3.7.3\n",
    "import os\n",
    "\n",
    "from IPython.display import display\n",
    "\n",
    "# numpy  1.17.1\n",
    "import numpy as np\n",
    "\n",
    "# pandas  0.25.1\n",
    "import pandas as pd \n",
    "\n",
    "# matplotlib  3.1.1\n",
    "import matplotlib.pyplot as plt\n",
    "from matplotlib.colors import ListedColormap\n",
    "\n",
    "# scikit-learn  0.21.3\n",
    "from sklearn.datasets import load_wine, load_breast_cancer\n",
    "from sklearn.ensemble import RandomForestClassifier\n",
    "from sklearn.feature_selection import SelectFromModel\n",
    "from sklearn.metrics import accuracy_score\n",
    "from sklearn.model_selection import train_test_split\n",
    "from sklearn.tree import DecisionTreeClassifier, export_graphviz"
   ]
  },
  {
   "cell_type": "code",
   "execution_count": 2,
   "metadata": {},
   "outputs": [
    {
     "name": "stdout",
     "output_type": "stream",
     "text": [
      "Accuracy: 0.98\n",
      "Accuracy per feature: 0.03\n"
     ]
    }
   ],
   "source": [
    "# load the breast_cancer dataset\n",
    "init_data = load_breast_cancer()\n",
    "(X, y) = load_breast_cancer(return_X_y=True)\n",
    "# X = pd.DataFrame(data=X, columns=init_data['feature_names'])\n",
    "# y = pd.DataFrame(data=y, columns=['label'])\n",
    "\n",
    "# split X into training and testing sets\n",
    "X_train, X_test, y_train, y_test = train_test_split(X, y, test_size=0.3, random_state=0)\n",
    "\n",
    "# Train a RandomForestClassifier as model \n",
    "forest = RandomForestClassifier(criterion='entropy',\n",
    "                                n_estimators=200, \n",
    "                                random_state=1,\n",
    "                                n_jobs=2)\n",
    "forest.fit(X_train, y_train)\n",
    "y_pred = forest.predict(X_test)\n",
    "print('Accuracy: %.2f' % accuracy_score(y_test, y_pred))\n",
    "print('Accuracy per feature: %.2f' % (accuracy_score(y_test, y_pred)/X.shape[1]))"
   ]
  },
  {
   "cell_type": "code",
   "execution_count": 3,
   "metadata": {},
   "outputs": [
    {
     "name": "stdout",
     "output_type": "stream",
     "text": [
      "\n",
      "all feature\n",
      " 1) 27                             0.141849\n",
      " 2) 7                              0.117697\n",
      " 3) 20                             0.110919\n",
      " 4) 22                             0.105243\n",
      " 5) 6                              0.077163\n",
      " 6) 23                             0.073364\n",
      " 7) 13                             0.041760\n",
      " 8) 2                              0.036943\n",
      " 9) 0                              0.035625\n",
      "10) 26                             0.035205\n",
      "11) 3                              0.032890\n",
      "12) 21                             0.022736\n",
      "13) 1                              0.018584\n",
      "14) 25                             0.016786\n",
      "15) 10                             0.015408\n",
      "16) 28                             0.014770\n",
      "17) 24                             0.014235\n",
      "18) 5                              0.010085\n",
      "19) 12                             0.010040\n",
      "20) 29                             0.009015\n",
      "21) 17                             0.008085\n",
      "22) 15                             0.007420\n",
      "23) 4                              0.006557\n",
      "24) 19                             0.006368\n",
      "25) 18                             0.006357\n",
      "26) 16                             0.006135\n",
      "27) 11                             0.005854\n",
      "28) 14                             0.005100\n",
      "29) 8                              0.004598\n",
      "30) 9                              0.003209\n",
      "\n",
      "important feature\n",
      " 1) 27                             0.141849\n",
      " 2) 7                              0.117697\n",
      "\n",
      "Accuracy (forest_forest): 0.89\n",
      "Accuracy per feature: 0.44\n"
     ]
    }
   ],
   "source": [
    "print(\"\\nall feature\")\n",
    "importances = forest.feature_importances_\n",
    "# get sort indices in descending order\n",
    "indices = np.argsort(importances)[::-1]\n",
    "for f in range(X_train.shape[1]):\n",
    "    print(\"%2d) %-*s %f\" % (f + 1, 30, \n",
    "                            indices[f], \n",
    "                            importances[indices[f]]))\n",
    "\n",
    "sfm = SelectFromModel(forest, threshold=0.117, prefit=True)\n",
    "Z_forest_alt = sfm.transform(X)\n",
    "print(\"\\nimportant feature\")\n",
    "for f in range(Z_forest_alt.shape[1]):\n",
    "    print(\"%2d) %-*s %f\" % (f + 1, 30, \n",
    "                            indices[f], \n",
    "                            importances[indices[f]]))\n",
    "\n",
    "# train a random forest based on Z_forest\n",
    "Z_forest_train, Z_forest_test, y_forest_train, y_forest_test = train_test_split(Z_forest_alt, y,\n",
    "                                                                                test_size=0.3, random_state=0)\n",
    "forest_forest = RandomForestClassifier(criterion='entropy',\n",
    "                                       n_estimators=200, \n",
    "                                       random_state=1,\n",
    "                                       n_jobs=2)\n",
    "forest_forest.fit(Z_forest_train, y_forest_train)\n",
    "\n",
    "y_forest_pred = forest_forest.predict(Z_forest_test)\n",
    "print('\\nAccuracy (forest_forest): %.2f' % accuracy_score(y_forest_test, y_forest_pred))\n",
    "print('Accuracy per feature: %.2f' % (accuracy_score(y_forest_test, y_forest_pred)/Z_forest_alt.shape[1]))"
   ]
  }
 ],
 "metadata": {
  "kernelspec": {
   "display_name": "Python 3",
   "language": "python",
   "name": "python3"
  },
  "language_info": {
   "codemirror_mode": {
    "name": "ipython",
    "version": 3
   },
   "file_extension": ".py",
   "mimetype": "text/x-python",
   "name": "python",
   "nbconvert_exporter": "python",
   "pygments_lexer": "ipython3",
   "version": "3.7.3"
  }
 },
 "nbformat": 4,
 "nbformat_minor": 2
}
