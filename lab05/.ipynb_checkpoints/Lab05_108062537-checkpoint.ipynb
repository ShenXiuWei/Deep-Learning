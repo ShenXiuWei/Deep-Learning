{
 "cells": [
  {
   "cell_type": "code",
   "execution_count": 1,
   "metadata": {},
   "outputs": [],
   "source": [
    "# inline plotting instead of popping out\n",
    "%matplotlib inline\n",
    "\n",
    "# python 3.7.3\n",
    "from IPython.display import Image\n",
    "\n",
    "# numpy  1.17.1\n",
    "import numpy as np\n",
    "\n",
    "# pandas  0.25.1\n",
    "import pandas as pd\n",
    "\n",
    "# matplotlib  3.1.1\n",
    "import matplotlib.pyplot as plt\n",
    "\n",
    "# scikit-learn  0.21.3\n",
    "from sklearn.linear_model import LinearRegression\n",
    "from sklearn.metrics import r2_score\n",
    "from sklearn.metrics import mean_squared_error\n",
    "from sklearn.model_selection import train_test_split\n",
    "from sklearn.preprocessing import StandardScaler, PolynomialFeatures\n",
    "from sklearn.tree import DecisionTreeRegressor\n",
    "from sklearn.ensemble import RandomForestRegressor\n",
    "from sklearn.ensemble import RandomForestClassifier\n",
    "from sklearn.tree import DecisionTreeClassifier, export_graphviz\n",
    "from sklearn.linear_model import Lasso\n",
    "from sklearn.linear_model import Ridge, RidgeClassifier\n",
    "\n",
    "from pylab import *\n",
    "import csv"
   ]
  },
  {
   "cell_type": "code",
   "execution_count": 2,
   "metadata": {},
   "outputs": [],
   "source": [
    "X_train = pd.read_csv('./data/nba/X_train.csv')\n",
    "y_train = pd.read_csv('./data/nba/y_train.csv')\n",
    "X_test = pd.read_csv('./data/nba/X_test.csv')\n",
    "df = X_train"
   ]
  },
  {
   "cell_type": "code",
   "execution_count": 3,
   "metadata": {},
   "outputs": [
    {
     "name": "stdout",
     "output_type": "stream",
     "text": [
      "Index(['PERIOD', 'GAME_CLOCK', 'SHOT_CLOCK', 'DRIBBLES', 'TOUCH_TIME',\n",
      "       'SHOT_DIST', 'PTS_TYPE', 'CLOSE_DEF_DIST'],\n",
      "      dtype='object')\n",
      "Index(['FGM'], dtype='object')\n"
     ]
    }
   ],
   "source": [
    "print(X_train.columns)\n",
    "print(y_train.columns)"
   ]
  },
  {
   "cell_type": "code",
   "execution_count": 4,
   "metadata": {},
   "outputs": [],
   "source": [
    "def pd2np(df):\n",
    "    return df.values"
   ]
  },
  {
   "cell_type": "code",
   "execution_count": 5,
   "metadata": {},
   "outputs": [],
   "source": [
    "X_train = pd2np(X_train)\n",
    "y_train = pd2np(y_train)\n",
    "X_test = pd2np(X_test)\n",
    "sc_x = StandardScaler()\n",
    "X_train_std = sc_x.fit_transform(X_train)\n",
    "X_test_std  = sc_x.transform(X_test)\n",
    "X_origin_std = X_train_std\n",
    "y_origin = y_train"
   ]
  },
  {
   "cell_type": "code",
   "execution_count": 6,
   "metadata": {},
   "outputs": [
    {
     "name": "stdout",
     "output_type": "stream",
     "text": [
      "(52399, 8)\n",
      "(36679, 8) (15720, 8) (13100, 8)\n"
     ]
    }
   ],
   "source": [
    "print(X_train.shape)\n",
    "X_train, X_valid, y_train, y_valid = train_test_split(X_train_std, y_train, test_size=0.3, random_state=0)\n",
    "print(X_train.shape, X_valid.shape, X_test.shape)"
   ]
  },
  {
   "cell_type": "code",
   "execution_count": 7,
   "metadata": {
    "scrolled": false
   },
   "outputs": [
    {
     "name": "stdout",
     "output_type": "stream",
     "text": [
      "\n",
      "[Alpha = 0.00001]\n",
      "MSE train: 0.23456, valid: 0.23345\n",
      "\n",
      "[Alpha = 0.00010]\n",
      "MSE train: 0.23456, valid: 0.23343\n",
      "\n",
      "[Alpha = 0.00100]\n",
      "MSE train: 0.23460, valid: 0.23332\n",
      "\n",
      "[Alpha = 0.01000]\n",
      "MSE train: 0.23516, valid: 0.23415\n",
      "\n",
      "[Alpha = 0.10000]\n",
      "MSE train: 0.24803, valid: 0.24821\n",
      "\n",
      "[Alpha = 1.00000]\n",
      "MSE train: 0.24803, valid: 0.24821\n",
      "\n",
      "[Alpha = 10.00000]\n",
      "MSE train: 0.24803, valid: 0.24821\n"
     ]
    }
   ],
   "source": [
    "for a in [0.00001, 0.0001, 0.001, 0.01, 0.1, 1, 10]:\n",
    "    lr_rg = Lasso(alpha=a)\n",
    "    lr_rg.fit(X_train, y_train)\n",
    "\n",
    "    y_train_pred = lr_rg.predict(X_train)\n",
    "    y_valid_pred = lr_rg.predict(X_valid)\n",
    "\n",
    "    print('\\n[Alpha = %.5f]' % a )\n",
    "    print('MSE train: %.5f, valid: %.5f' % (\n",
    "                    mean_squared_error(y_train, y_train_pred),\n",
    "                    mean_squared_error(y_valid, y_valid_pred)))  "
   ]
  },
  {
   "cell_type": "code",
   "execution_count": 8,
   "metadata": {},
   "outputs": [
    {
     "data": {
      "image/png": "[encoded data removed]",
      "text/plain": [
       "<Figure size 432x288 with 1 Axes>"
      ]
     },
     "metadata": {
      "needs_background": "light"
     },
     "output_type": "display_data"
    }
   ],
   "source": [
    "X_a, X_b, y_a, y_b = train_test_split(\n",
    "    X_train, y_train, test_size=0.3, random_state=0)\n",
    "\n",
    "max_alpha = 3\n",
    "coef_ = np.zeros((max_alpha,8))\n",
    "\n",
    "for a in range(3):\n",
    "    lr_rg = Lasso(alpha = a+0.01)\n",
    "    lr_rg.fit(X_a, y_a)\n",
    "\n",
    "    y_a_pred = lr_rg.predict(X_a)\n",
    "    y_b_pred = lr_rg.predict(X_b)\n",
    "    coef_[a,:] = lr_rg.coef_.reshape(1,-1)\n",
    "    \n",
    "plt.hlines(y=0, xmin=0, xmax=max_alpha, color='red', linewidth = 1, linestyle = '--')\n",
    "\n",
    "for i in range(8):\n",
    "    plt.plot(range(max_alpha),coef_[:,i])\n",
    "    \n",
    "plt.ylabel('Coefficients')\n",
    "plt.xlabel('Alpha')\n",
    "plt.tight_layout()\n",
    "plt.show()"
   ]
  },
  {
   "cell_type": "markdown",
   "metadata": {
    "slideshow": {
     "slide_type": "notes"
    }
   },
   "source": [
    "## The top-3 features you find and how you find it\n",
    "使用Lab05裡的方法用LASSO for Feature Selection\n",
    "然後再調整alpha\n",
    "在調整epsilon使剛好挑到只剩下三個feature"
   ]
  },
  {
   "cell_type": "code",
   "execution_count": 9,
   "metadata": {},
   "outputs": [
    {
     "data": {
      "image/png": "[encoded data removed]",
      "text/plain": [
       "<Figure size 432x288 with 1 Axes>"
      ]
     },
     "metadata": {
      "needs_background": "light"
     },
     "output_type": "display_data"
    },
    {
     "name": "stdout",
     "output_type": "stream",
     "text": [
      "Selected attributes: Index(['TOUCH_TIME', 'SHOT_DIST', 'CLOSE_DEF_DIST'], dtype='object')\n"
     ]
    }
   ],
   "source": [
    "var_num = X_train.shape[1]\n",
    "\n",
    "lr_lasso = Lasso(alpha = 0.001)\n",
    "lr_lasso.fit(X_train, y_train)\n",
    "\n",
    "plt.scatter(range(var_num),lr_lasso.coef_, label = 'LASSO', color = 'blue')\n",
    "plt.hlines(y=0, xmin=0, xmax=var_num-1, color='red', linestyle ='--')\n",
    "plt.xlim(0, var_num - 1)\n",
    "plt.legend(loc = 'upper right')\n",
    "plt.xlabel('Coefficients index')\n",
    "plt.ylabel('Coefficients')\n",
    "plt.tight_layout()\n",
    "plt.show()\n",
    "\n",
    "epsilon = 0.025\n",
    "\n",
    "idxs = np.where(abs(lr_lasso.coef_) > epsilon)\n",
    "print('Selected attributes: {}'.format(df.columns[idxs]))"
   ]
  },
  {
   "cell_type": "code",
   "execution_count": 10,
   "metadata": {},
   "outputs": [],
   "source": [
    "dict = {\"TOUCH_TIME\": X_origin_std[:,idxs[0][0]],  \n",
    "        'SHOT_DIST' : X_origin_std[:,idxs[0][1]],\n",
    "        'CLOSE_DEF_DIST' : X_origin_std[:,idxs[0][2]]\n",
    "       }\n",
    "\n",
    "select_df = pd.DataFrame(dict)\n",
    "X_train = pd2np(select_df)\n",
    "X_train, X_valid, y_train, y_valid = train_test_split(X_train, y_origin, test_size=0.3, random_state=0)\n",
    "\n",
    "dict = {\"TOUCH_TIME\": X_test_std[:,idxs[0][0]],  \n",
    "        'SHOT_DIST' : X_test_std[:,idxs[0][1]],\n",
    "        'CLOSE_DEF_DIST' : X_test_std[:,idxs[0][2]]\n",
    "        }\n",
    "\n",
    "select_df2 = pd.DataFrame(dict)\n",
    "X_test = pd2np(select_df2)"
   ]
  },
  {
   "cell_type": "markdown",
   "metadata": {},
   "source": [
    "## Plot the error curve of your best model and tell if it is over-fit or not\n",
    "用Decisiton Tree來當我最好的model，\n",
    "很明顯tree的depth越深，training error越高，valid error越低，\n",
    "代表存在著overfit的情形。"
   ]
  },
  {
   "cell_type": "code",
   "execution_count": 11,
   "metadata": {},
   "outputs": [
    {
     "data": {
      "image/png": "[encoded data removed]",
      "text/plain": [
       "<Figure size 432x288 with 1 Axes>"
      ]
     },
     "metadata": {
      "needs_background": "light"
     },
     "output_type": "display_data"
    }
   ],
   "source": [
    "mse_train = []\n",
    "mse_test = []\n",
    "\n",
    "max_depth = 12\n",
    "\n",
    "for d in range(1, max_depth):\n",
    "    tree = DecisionTreeClassifier(criterion='entropy', \n",
    "                              max_depth=d, \n",
    "                              random_state=0)\n",
    "    tree.fit(X_train, y_train)\n",
    "    y_train_pred = tree.predict(X_train)\n",
    "    y_valid_pred = tree.predict(X_valid) \n",
    "    \n",
    "    mse_train.append(mean_squared_error(y_train, y_train_pred))\n",
    "    mse_test.append(mean_squared_error(y_valid, y_valid_pred))\n",
    "    \n",
    "\n",
    "plt.plot(range(1, max_depth), mse_train, label = 'Training error', color = 'blue', linewidth = 2)\n",
    "plt.plot(range(1, max_depth), mse_test, label = 'validing error', color = 'red', linewidth = 2)\n",
    "plt.legend(loc='upper right')\n",
    "plt.xlabel('Model complexity (decision tree depth)')\n",
    "plt.ylabel('$MSE$')\n",
    "plt.tight_layout()\n",
    "plt.show()"
   ]
  },
  {
   "cell_type": "code",
   "execution_count": 12,
   "metadata": {},
   "outputs": [
    {
     "name": "stderr",
     "output_type": "stream",
     "text": [
      "/Users/shenxiu5651/anaconda3/lib/python3.7/site-packages/sklearn/linear_model/ridge.py:125: LinAlgWarning: Ill-conditioned matrix (rcond=8.51357e-18): result may not be accurate.\n",
      "  overwrite_a=True).T\n",
      "/Users/shenxiu5651/anaconda3/lib/python3.7/site-packages/sklearn/linear_model/ridge.py:125: LinAlgWarning: Ill-conditioned matrix (rcond=2.80251e-20): result may not be accurate.\n",
      "  overwrite_a=True).T\n",
      "/Users/shenxiu5651/anaconda3/lib/python3.7/site-packages/sklearn/linear_model/ridge.py:125: LinAlgWarning: Ill-conditioned matrix (rcond=9.15152e-23): result may not be accurate.\n",
      "  overwrite_a=True).T\n",
      "/Users/shenxiu5651/anaconda3/lib/python3.7/site-packages/sklearn/linear_model/ridge.py:125: LinAlgWarning: Ill-conditioned matrix (rcond=1.57539e-25): result may not be accurate.\n",
      "  overwrite_a=True).T\n",
      "/Users/shenxiu5651/anaconda3/lib/python3.7/site-packages/sklearn/linear_model/ridge.py:125: LinAlgWarning: Ill-conditioned matrix (rcond=2.8692e-28): result may not be accurate.\n",
      "  overwrite_a=True).T\n"
     ]
    },
    {
     "data": {
      "image/png": "[encoded data removed]",
      "text/plain": [
       "<Figure size 432x288 with 1 Axes>"
      ]
     },
     "metadata": {
      "needs_background": "light"
     },
     "output_type": "display_data"
    }
   ],
   "source": [
    "mse_train = []\n",
    "mse_test = []\n",
    "\n",
    "max_depth = 12\n",
    "\n",
    "for d in range(1, max_depth):\n",
    "    poly = PolynomialFeatures(degree=d)\n",
    "    X_train_poly = poly.fit_transform(X_train)\n",
    "    X_valid_poly = poly.transform(X_valid)\n",
    "    X_test_poly  = poly.transform(X_test)\n",
    "    \n",
    "    lr_rg = RidgeClassifier(alpha=10)\n",
    "    lr_rg.fit(X_train_poly,  y_train[:,0])\n",
    "\n",
    "    y_train_pred = lr_rg.predict(X_train_poly)\n",
    "    y_valid_pred = lr_rg.predict(X_valid_poly)\n",
    "    y_test_pred  = lr_rg.predict(X_test_poly)\n",
    "    \n",
    "    mse_train.append(mean_squared_error(y_train, y_train_pred))\n",
    "    mse_test.append(mean_squared_error(y_valid, y_valid_pred))\n",
    "\n",
    "plt.plot(range(1, max_depth), mse_train, label = 'Training error', color = 'blue', linewidth = 2)\n",
    "plt.plot(range(1, max_depth), mse_test, label = 'validing error', color = 'red', linewidth = 2)\n",
    "plt.legend(loc='upper right')\n",
    "plt.xlabel('Model complexity (decision tree depth)')\n",
    "plt.ylabel('$MSE$')\n",
    "plt.tight_layout()\n",
    "plt.show()"
   ]
  },
  {
   "cell_type": "markdown",
   "metadata": {},
   "source": [
    "## All models you have tried and the result\n",
    "我有用decision tree, random forest, ridge classifer\n",
    "結果如下，\n",
    "decision tree:\n",
    "    MSE train: 0.38270, valid: 0.38225\n",
    "    Accuracy train: 0.62, valid: 0.62\n",
    "random forest:\n",
    "    MSE train: 0.02492, valid: 0.43092\n",
    "    Accuracy train: 0.98, valid: 0.57\n",
    "ridge classifier:\n",
    "    Alpha = 10\n",
    "    MSE train: 0.38191, valid: 0.37774\n",
    "    Accuracy train: 0.62, valid: 0.62\n",
    "\n",
    "而ridge classifier結果比較好\n",
    "\n",
    "\n",
    "## How you evaluate your model\n",
    "evaluate基本上是看MSE以及最後的accuracy"
   ]
  },
  {
   "cell_type": "code",
   "execution_count": 13,
   "metadata": {},
   "outputs": [
    {
     "name": "stdout",
     "output_type": "stream",
     "text": [
      "MSE train: 0.02492, valid: 0.43092\n",
      "Accuracy train: 0.98, valid: 0.57\n"
     ]
    }
   ],
   "source": [
    "forest = RandomForestClassifier(criterion='entropy',\n",
    "                                n_estimators=200, \n",
    "                                random_state=1,\n",
    "                                n_jobs=2)\n",
    "forest.fit(X_train, y_train[:,0])\n",
    "y_train_pred = forest.predict(X_train)\n",
    "y_valid_pred = forest.predict(X_valid)\n",
    "y_test_pred  = forest.predict(X_test)\n",
    "\n",
    "print('MSE train: %.5f, valid: %.5f' % (\n",
    "                    mean_squared_error(y_train, y_train_pred),\n",
    "                    mean_squared_error(y_valid, y_valid_pred))) \n",
    "print('Accuracy train: %.2f, valid: %.2f' % (\n",
    "                    (y_train == y_train_pred[:,np.newaxis]).sum() / y_train.shape[0],\n",
    "                    (y_valid == y_valid_pred[:,np.newaxis]).sum() / y_valid.shape[0]))"
   ]
  },
  {
   "cell_type": "code",
   "execution_count": 14,
   "metadata": {},
   "outputs": [
    {
     "name": "stdout",
     "output_type": "stream",
     "text": [
      "MSE train: 0.38270, valid: 0.38225\n",
      "Accuracy train: 0.62, valid: 0.62\n"
     ]
    }
   ],
   "source": [
    "tree = DecisionTreeClassifier(criterion='entropy', \n",
    "                              max_depth=5, \n",
    "                              random_state=0)\n",
    "tree.fit(X_train, y_train)\n",
    "y_train_pred = tree.predict(X_train)\n",
    "y_valid_pred = tree.predict(X_valid)\n",
    "y_test_pred  = tree.predict(X_test)\n",
    "\n",
    "print('MSE train: %.5f, valid: %.5f' % (\n",
    "                    mean_squared_error(y_train, y_train_pred[:,np.newaxis]),\n",
    "                    mean_squared_error(y_valid, y_valid_pred[:,np.newaxis]))) \n",
    "print('Accuracy train: %.2f, valid: %.2f' % (\n",
    "                    (y_train == y_train_pred[:,np.newaxis]).sum() / y_train.shape[0],\n",
    "                    (y_valid == y_valid_pred[:,np.newaxis]).sum() / y_valid.shape[0]))"
   ]
  },
  {
   "cell_type": "code",
   "execution_count": 15,
   "metadata": {},
   "outputs": [
    {
     "name": "stdout",
     "output_type": "stream",
     "text": [
      "\n",
      "[Alpha = 10]\n",
      "MSE train: 0.38259, valid: 0.37856\n",
      "Accuracy train: 0.62, valid: 0.62\n"
     ]
    },
    {
     "name": "stderr",
     "output_type": "stream",
     "text": [
      "/Users/shenxiu5651/anaconda3/lib/python3.7/site-packages/sklearn/linear_model/ridge.py:839: DataConversionWarning: A column-vector y was passed when a 1d array was expected. Please change the shape of y to (n_samples, ), for example using ravel().\n",
      "  y = column_or_1d(y, warn=True)\n",
      "/Users/shenxiu5651/anaconda3/lib/python3.7/site-packages/sklearn/linear_model/ridge.py:125: LinAlgWarning: Ill-conditioned matrix (rcond=2.80251e-20): result may not be accurate.\n",
      "  overwrite_a=True).T\n"
     ]
    }
   ],
   "source": [
    "poly = PolynomialFeatures(degree=8)\n",
    "X_train_poly = poly.fit_transform(X_train)\n",
    "X_valid_poly = poly.transform(X_valid)\n",
    "X_test_poly  = poly.transform(X_test)\n",
    "\n",
    "\n",
    "lr_rg = RidgeClassifier(alpha=10)\n",
    "lr_rg.fit(X_train_poly, y_train)\n",
    "\n",
    "y_train_pred = lr_rg.predict(X_train_poly)\n",
    "y_valid_pred = lr_rg.predict(X_valid_poly)\n",
    "y_test_pred  = lr_rg.predict(X_test_poly)\n",
    "\n",
    "\n",
    "print('\\n[Alpha = %d]' % 10 )\n",
    "print('MSE train: %.5f, valid: %.5f' % (\n",
    "                mean_squared_error(y_train, y_train_pred[:,np.newaxis]),\n",
    "                mean_squared_error(y_valid, y_valid_pred[:,np.newaxis]))) \n",
    "print('Accuracy train: %.2f, valid: %.2f' % (\n",
    "                (y_train == y_train_pred[:,np.newaxis]).sum() / y_train.shape[0],\n",
    "                (y_valid == y_valid_pred[:,np.newaxis]).sum() / y_valid.shape[0]))\n",
    "    "
   ]
  },
  {
   "cell_type": "code",
   "execution_count": 16,
   "metadata": {},
   "outputs": [
    {
     "name": "stdout",
     "output_type": "stream",
     "text": [
      "[1 0 0 ... 0 0 0]\n",
      "(13100,)\n"
     ]
    }
   ],
   "source": [
    "print(y_test_pred)\n",
    "print(y_test_pred.shape)\n",
    "\n",
    "pd.DataFrame(y_test_pred).to_csv('./data/nba/y_pred.csv',header=[\"FGM\"], index=None)"
   ]
  },
  {
   "cell_type": "markdown",
   "metadata": {},
   "source": [
    "## Brief report\n",
    "基本上就是先把data都std後，\n",
    "再照著Lab05裡面的Lasso流程，\n",
    "來進行feature selection，\n",
    "之後用select後的feature套入decision tree, random forest model\n",
    "來比較結果"
   ]
  }
 ],
 "metadata": {
  "kernelspec": {
   "display_name": "Python 3",
   "language": "python",
   "name": "python3"
  },
  "language_info": {
   "codemirror_mode": {
    "name": "ipython",
    "version": 3
   },
   "file_extension": ".py",
   "mimetype": "text/x-python",
   "name": "python",
   "nbconvert_exporter": "python",
   "pygments_lexer": "ipython3",
   "version": "3.7.3"
  }
 },
 "nbformat": 4,
 "nbformat_minor": 2
}
